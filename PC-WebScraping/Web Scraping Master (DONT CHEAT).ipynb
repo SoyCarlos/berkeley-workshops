{
 "cells": [
  {
   "cell_type": "code",
   "execution_count": null,
   "metadata": {
    "collapsed": true
   },
   "outputs": [],
   "source": [
    "from bs4 import BeautifulSoup\n",
    "from urllib.request import urlopen\n",
    "import matplotlib.pyplot as plt\n",
    "\n",
    "plt.style.use('seaborn-talk')"
   ]
  },
  {
   "cell_type": "markdown",
   "metadata": {},
   "source": [
    "## Intro to Beautiful Soup"
   ]
  },
  {
   "cell_type": "code",
   "execution_count": null,
   "metadata": {},
   "outputs": [],
   "source": [
    "#URL to be scraped\n",
    "url = 'http://quotes.toscrape.com'\n",
    "\n",
    "#Content collected from URL\n",
    "content = urlopen(url).read()\n",
    "\n",
    "#BeautifulSoup parser of content\n",
    "soup = BeautifulSoup(content, 'html.parser')"
   ]
  },
  {
   "cell_type": "code",
   "execution_count": null,
   "metadata": {},
   "outputs": [],
   "source": [
    "soup"
   ]
  },
  {
   "cell_type": "code",
   "execution_count": null,
   "metadata": {},
   "outputs": [],
   "source": [
    "\"\"\"\n",
    "    soup.find() - Retrieves first element that matches filter.\n",
    "    Returns BeautifulSoup Tag element\n",
    "    \n",
    "    soup.find_all(): Will retrieve all elements that match filter\n",
    "    Returns BeautifulSoup ResultSet object that contains BeautifulSoup Tag objects\n",
    "    \n",
    "    BeautifulSoupTagObject.get(attribute): Method for BeautifulSoup Tag Objects to retrieve a tag attribute.\n",
    "    Returns attribute as String\n",
    "    \n",
    "    BeautifulSoupTagObject.text: Method to retrieve element content from BeautifulSoup Tag Objects.\n",
    "    Returns HTML Element Content as String\n",
    "    \n",
    "\"\"\"\n",
    "\n",
    "print(\" Tag Object:\", soup.find('a'), '\\n', \"String:\", soup.find('a').text, '\\n', \"String:\", soup.find('a').get('href'))"
   ]
  },
  {
   "cell_type": "code",
   "execution_count": null,
   "metadata": {},
   "outputs": [],
   "source": [
    "for elem in soup.find_all('div', 'quote'):\n",
    "    quote = elem.find('span', 'text').text\n",
    "    author = elem.find('small', 'author').text\n",
    "    print(quote, '-', author, '\\n')"
   ]
  },
  {
   "cell_type": "code",
   "execution_count": null,
   "metadata": {},
   "outputs": [],
   "source": [
    "soup.find('li', 'next').find('a').get('href')"
   ]
  },
  {
   "cell_type": "code",
   "execution_count": null,
   "metadata": {},
   "outputs": [],
   "source": [
    "base_url ='http://quotes.toscrape.com{}'\n",
    "page=''\n",
    "\n",
    "while True:\n",
    "    current_content = urlopen(base_url.format(page))\n",
    "    good_soup = BeautifulSoup(current_content, 'html.parser')\n",
    "    \n",
    "    for elem in good_soup.find_all('div', 'quote'):\n",
    "        quote = elem.find('span', 'text').text\n",
    "        author = elem.find('small', 'author').text\n",
    "        print(quote, '-', author, '\\n')\n",
    "    \n",
    "    link = good_soup.find('li', 'next')\n",
    "\n",
    "    if link is None:\n",
    "        break\n",
    "    else:\n",
    "        page = link.find('a').get('href')"
   ]
  },
  {
   "cell_type": "markdown",
   "metadata": {},
   "source": [
    "## AITA Sub-Reddit Hands-On Practice"
   ]
  },
  {
   "cell_type": "code",
   "execution_count": null,
   "metadata": {},
   "outputs": [],
   "source": [
    "reddit = \"https://old.reddit.com/r/AmItheAsshole/comments/dqiutw/aita_for_leaving_a_bad_review_after_i_said_i/\"\n",
    "\n",
    "reddit_content = urlopen(reddit).read()\n",
    "\n",
    "reddit_soup = BeautifulSoup(reddit_content, 'html.parser')\n",
    "\n",
    "reddit_soup"
   ]
  },
  {
   "cell_type": "code",
   "execution_count": null,
   "metadata": {},
   "outputs": [],
   "source": [
    "comments = reddit_soup.find_all('div', 'md')\n",
    "comments"
   ]
  },
  {
   "cell_type": "code",
   "execution_count": null,
   "metadata": {},
   "outputs": [],
   "source": [
    "counter = {\"YTA\": 0, \"NTA\": 0, \"ESH\": 0, \"NAH\": 0, \"INFO\": 0}\n",
    "\n",
    "for comment in comments:\n",
    "\n",
    "    text = comment.find('p').text\n",
    "    \n",
    "    for vote in counter.keys():\n",
    "        if vote in text:\n",
    "            counter[vote] += 1\n",
    "    \n",
    "    print(text, '\\n')"
   ]
  },
  {
   "cell_type": "code",
   "execution_count": null,
   "metadata": {},
   "outputs": [],
   "source": [
    "plt.bar(range(len(counter)), list(counter.values()), align='center')\n",
    "plt.xticks(range(len(counter)), list(counter.keys()))\n",
    "\n",
    "plt.show()"
   ]
  },
  {
   "cell_type": "code",
   "execution_count": null,
   "metadata": {
    "collapsed": true
   },
   "outputs": [],
   "source": []
  }
 ],
 "metadata": {
  "kernelspec": {
   "display_name": "Python 3",
   "language": "python",
   "name": "python3"
  },
  "language_info": {
   "codemirror_mode": {
    "name": "ipython",
    "version": 3
   },
   "file_extension": ".py",
   "mimetype": "text/x-python",
   "name": "python",
   "nbconvert_exporter": "python",
   "pygments_lexer": "ipython3",
   "version": "3.6.7"
  }
 },
 "nbformat": 4,
 "nbformat_minor": 2
}
